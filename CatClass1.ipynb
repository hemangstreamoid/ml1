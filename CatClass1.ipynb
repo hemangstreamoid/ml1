import json
import os
#To mount the drive from where files can be read
from google.colab import drive
drive.mount('/content/drive', force_remount=True)
f = open("/content/drive/My Drive/AI ML Group/lr_dataset.json","r")
res = json.load(f)
items = res['data']
#print (len(items))
titles = list()
categories = list()
for item in items:
  titles.append(item['title'])
  categories.append(item['comprehensive_category'])

print (titles[:5])  
print (categories[:5])
