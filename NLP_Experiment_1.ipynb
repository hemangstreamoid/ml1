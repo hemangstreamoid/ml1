{
  "nbformat": 4,
  "nbformat_minor": 0,
  "metadata": {
    "colab": {
      "name": "NLP Experiment 1.ipynb",
      "provenance": [],
      "collapsed_sections": [],
      "include_colab_link": true
    },
    "kernelspec": {
      "name": "python3",
      "display_name": "Python 3"
    }
  },
  "cells": [
    {
      "cell_type": "markdown",
      "metadata": {
        "id": "view-in-github",
        "colab_type": "text"
      },
      "source": [
        "<a href=\"https://colab.research.google.com/github/hemangstreamoid/ml1/blob/master/NLP_Experiment_1.ipynb\" target=\"_parent\"><img src=\"https://colab.research.google.com/assets/colab-badge.svg\" alt=\"Open In Colab\"/></a>"
      ]
    },
    {
      "cell_type": "markdown",
      "metadata": {
        "id": "kPcwMejfP-xr",
        "colab_type": "text"
      },
      "source": [
        "**N - Grams**"
      ]
    },
    {
      "cell_type": "code",
      "metadata": {
        "id": "SV8oEZcYPEv6",
        "colab_type": "code",
        "colab": {}
      },
      "source": [
        "import re\n",
        "\n",
        "def generate_ngrams (sentence, n):\n",
        "    # Convert to lowercases\n",
        "    sentence = sentence.lower()\n",
        "    \n",
        "    # Replace all none alphanumeric characters with spaces\n",
        "    sentence = re.sub(r'[^a-zA-Z0-9\\s]', ' ', sentence)\n",
        "    \n",
        "    # Break sentence in the token, remove empty tokens\n",
        "    tokens = [token for token in sentence.split(\" \") if token != \"\"]\n",
        "    \n",
        "    # Use the zip function to help us generate n-grams\n",
        "    # Concatentate the tokens into ngrams and return\n",
        "    ngrams = zip(*[tokens[i:] for i in range(n)])\n",
        "    return [\" \".join(ngram) for ngram in ngrams]\n",
        "\n",
        "def generate_all_grams (sentence, n):\n",
        "  return sum ([generate_ngrams (sentence, i + 1) for i in range (n)], [])"
      ],
      "execution_count": 0,
      "outputs": []
    },
    {
      "cell_type": "code",
      "metadata": {
        "id": "TsG1vaLERI5h",
        "colab_type": "code",
        "outputId": "a46254f0-6648-4a98-a773-f41fcb300987",
        "colab": {
          "base_uri": "https://localhost:8080/",
          "height": 54
        }
      },
      "source": [
        "text = \"The cat sat on the mat\"\n",
        "print (generate_all_grams (text, 3))"
      ],
      "execution_count": 0,
      "outputs": [
        {
          "output_type": "stream",
          "text": [
            "['the', 'cat', 'sat', 'on', 'the', 'mat', 'the cat', 'cat sat', 'sat on', 'on the', 'the mat', 'the cat sat', 'cat sat on', 'sat on the', 'on the mat']\n"
          ],
          "name": "stdout"
        }
      ]
    },
    {
      "cell_type": "markdown",
      "metadata": {
        "id": "lBCESOEiStt-",
        "colab_type": "text"
      },
      "source": [
        "**One Hot Encoding**"
      ]
    },
    {
      "cell_type": "code",
      "metadata": {
        "id": "MDFdGZiVSDvz",
        "colab_type": "code",
        "outputId": "66211fb4-66fd-4d24-fced-32c9e8998b51",
        "colab": {
          "base_uri": "https://localhost:8080/",
          "height": 434
        }
      },
      "source": [
        "import numpy as np\n",
        "\n",
        "#Initial data: one entry per sample (in this example, a sample is a sentence, but it could be an entire document)\n",
        "samples = ['The cat sat on the mat.', 'The dog are my breakfast.']\n",
        "\n",
        "# builds an index of all tokens in the data\n",
        "token_index = {}\n",
        "\n",
        "for sample in samples:\n",
        "  # Tokensizes the samples via the split method. In real life, you'd also strip punctuation and special characters from the samples.\n",
        "  for word in sample.split():\n",
        "    if word not in token_index:\n",
        "      token_index[word] = len(token_index) + 1\n",
        "      # assigns a unique index to each uniquq word. Note that you don't attribute index 0 to anything.\n",
        "\n",
        "print (token_index)\n",
        "# Vectorizes the samples. You'll only consider the first max_length words in each sample\n",
        "max_length = 10\n",
        "\n",
        "# This is where you store the results.\n",
        "results = np.zeros(shape=(len(samples), max_length, max(token_index.values()) + 1))\n",
        "\n",
        "for i, sample in enumerate(samples):\n",
        "  print (sample)\n",
        "  for j, word in list(enumerate(sample.split()))[:max_length]:\n",
        "    index = token_index.get(word)\n",
        "    results[i, j, index] = 1\n",
        "print (results)"
      ],
      "execution_count": 0,
      "outputs": [
        {
          "output_type": "stream",
          "text": [
            "{'The': 1, 'cat': 2, 'sat': 3, 'on': 4, 'the': 5, 'mat.': 6, 'dog': 7, 'are': 8, 'my': 9, 'breakfast.': 10}\n",
            "The cat sat on the mat.\n",
            "The dog are my breakfast.\n",
            "[[[0. 1. 0. 0. 0. 0. 0. 0. 0. 0. 0.]\n",
            "  [0. 0. 1. 0. 0. 0. 0. 0. 0. 0. 0.]\n",
            "  [0. 0. 0. 1. 0. 0. 0. 0. 0. 0. 0.]\n",
            "  [0. 0. 0. 0. 1. 0. 0. 0. 0. 0. 0.]\n",
            "  [0. 0. 0. 0. 0. 1. 0. 0. 0. 0. 0.]\n",
            "  [0. 0. 0. 0. 0. 0. 1. 0. 0. 0. 0.]\n",
            "  [0. 0. 0. 0. 0. 0. 0. 0. 0. 0. 0.]\n",
            "  [0. 0. 0. 0. 0. 0. 0. 0. 0. 0. 0.]\n",
            "  [0. 0. 0. 0. 0. 0. 0. 0. 0. 0. 0.]\n",
            "  [0. 0. 0. 0. 0. 0. 0. 0. 0. 0. 0.]]\n",
            "\n",
            " [[0. 1. 0. 0. 0. 0. 0. 0. 0. 0. 0.]\n",
            "  [0. 0. 0. 0. 0. 0. 0. 1. 0. 0. 0.]\n",
            "  [0. 0. 0. 0. 0. 0. 0. 0. 1. 0. 0.]\n",
            "  [0. 0. 0. 0. 0. 0. 0. 0. 0. 1. 0.]\n",
            "  [0. 0. 0. 0. 0. 0. 0. 0. 0. 0. 1.]\n",
            "  [0. 0. 0. 0. 0. 0. 0. 0. 0. 0. 0.]\n",
            "  [0. 0. 0. 0. 0. 0. 0. 0. 0. 0. 0.]\n",
            "  [0. 0. 0. 0. 0. 0. 0. 0. 0. 0. 0.]\n",
            "  [0. 0. 0. 0. 0. 0. 0. 0. 0. 0. 0.]\n",
            "  [0. 0. 0. 0. 0. 0. 0. 0. 0. 0. 0.]]]\n"
          ],
          "name": "stdout"
        }
      ]
    },
    {
      "cell_type": "code",
      "metadata": {
        "id": "PmSwFi7kVQux",
        "colab_type": "code",
        "outputId": "8e823351-cb6d-4d97-eaee-8138b39a34a2",
        "colab": {
          "base_uri": "https://localhost:8080/",
          "height": 315
        }
      },
      "source": [
        "import string\n",
        "\n",
        "samples = ['The cat sat on the mat.', 'The dog ate my homework']\n",
        "\n",
        "# All printable ASCII characters\n",
        "\n",
        "characters = string.printable\n",
        "token_index = dict(zip(range(1, len(characters) + 1), characters))\n",
        "print (token_index)\n",
        "max_length = 50\n",
        "results = np.zeros((len(samples), max_length, max(token_index.keys()) + 1))\n",
        "for i, sample in enumerate(samples):\n",
        "  for j, character in enumerate(sample):\n",
        "    index = token_index.get(character)\n",
        "    results[i, j, index] = 1\n",
        "print (results)"
      ],
      "execution_count": 0,
      "outputs": [
        {
          "output_type": "stream",
          "text": [
            "{1: '0', 2: '1', 3: '2', 4: '3', 5: '4', 6: '5', 7: '6', 8: '7', 9: '8', 10: '9', 11: 'a', 12: 'b', 13: 'c', 14: 'd', 15: 'e', 16: 'f', 17: 'g', 18: 'h', 19: 'i', 20: 'j', 21: 'k', 22: 'l', 23: 'm', 24: 'n', 25: 'o', 26: 'p', 27: 'q', 28: 'r', 29: 's', 30: 't', 31: 'u', 32: 'v', 33: 'w', 34: 'x', 35: 'y', 36: 'z', 37: 'A', 38: 'B', 39: 'C', 40: 'D', 41: 'E', 42: 'F', 43: 'G', 44: 'H', 45: 'I', 46: 'J', 47: 'K', 48: 'L', 49: 'M', 50: 'N', 51: 'O', 52: 'P', 53: 'Q', 54: 'R', 55: 'S', 56: 'T', 57: 'U', 58: 'V', 59: 'W', 60: 'X', 61: 'Y', 62: 'Z', 63: '!', 64: '\"', 65: '#', 66: '$', 67: '%', 68: '&', 69: \"'\", 70: '(', 71: ')', 72: '*', 73: '+', 74: ',', 75: '-', 76: '.', 77: '/', 78: ':', 79: ';', 80: '<', 81: '=', 82: '>', 83: '?', 84: '@', 85: '[', 86: '\\\\', 87: ']', 88: '^', 89: '_', 90: '`', 91: '{', 92: '|', 93: '}', 94: '~', 95: ' ', 96: '\\t', 97: '\\n', 98: '\\r', 99: '\\x0b', 100: '\\x0c'}\n",
            "[[[1. 1. 1. ... 1. 1. 1.]\n",
            "  [1. 1. 1. ... 1. 1. 1.]\n",
            "  [1. 1. 1. ... 1. 1. 1.]\n",
            "  ...\n",
            "  [0. 0. 0. ... 0. 0. 0.]\n",
            "  [0. 0. 0. ... 0. 0. 0.]\n",
            "  [0. 0. 0. ... 0. 0. 0.]]\n",
            "\n",
            " [[1. 1. 1. ... 1. 1. 1.]\n",
            "  [1. 1. 1. ... 1. 1. 1.]\n",
            "  [1. 1. 1. ... 1. 1. 1.]\n",
            "  ...\n",
            "  [0. 0. 0. ... 0. 0. 0.]\n",
            "  [0. 0. 0. ... 0. 0. 0.]\n",
            "  [0. 0. 0. ... 0. 0. 0.]]]\n"
          ],
          "name": "stdout"
        }
      ]
    },
    {
      "cell_type": "code",
      "metadata": {
        "id": "xduIsvALWLPH",
        "colab_type": "code",
        "outputId": "f2081f73-97b2-4083-bd48-aa28c465dbe9",
        "colab": {
          "base_uri": "https://localhost:8080/",
          "height": 151
        }
      },
      "source": [
        "from keras.preprocessing.text import Tokenizer\n",
        "\n",
        "samples = ['The cat sat on the mat.', 'The dog ate my homework.']\n",
        "\n",
        "# creates a tokenizer, configured to only take into account the 1000 most common words.\n",
        "tokenizer = Tokenizer(num_words=1000)\n",
        "\n",
        "# builds the word index\n",
        "tokenizer.fit_on_texts(samples)\n",
        "\n",
        "# turns strings into lists of integer indices\n",
        "sequences = tokenizer.texts_to_sequences(samples)\n",
        "print (sequences)\n",
        "\n",
        "#you could also directly get the one-hot binary representations. Vectorization modes other than one-hot encoding are supported by this tokenizer.\n",
        "one_hot_results = tokenizer.texts_to_matrix(samples, mode='binary')\n",
        "print (one_hot_results)\n",
        "\n",
        "# how you can recover the word index that was computed\n",
        "word_index = tokenizer.word_index\n",
        "print('Found %s unique tokens.' % len(word_index))"
      ],
      "execution_count": 0,
      "outputs": [
        {
          "output_type": "stream",
          "text": [
            "Using TensorFlow backend.\n"
          ],
          "name": "stderr"
        },
        {
          "output_type": "display_data",
          "data": {
            "text/html": [
              "<p style=\"color: red;\">\n",
              "The default version of TensorFlow in Colab will soon switch to TensorFlow 2.x.<br>\n",
              "We recommend you <a href=\"https://www.tensorflow.org/guide/migrate\" target=\"_blank\">upgrade</a> now \n",
              "or ensure your notebook will continue to use TensorFlow 1.x via the <code>%tensorflow_version 1.x</code> magic:\n",
              "<a href=\"https://colab.research.google.com/notebooks/tensorflow_version.ipynb\" target=\"_blank\">more info</a>.</p>\n"
            ],
            "text/plain": [
              "<IPython.core.display.HTML object>"
            ]
          },
          "metadata": {
            "tags": []
          }
        },
        {
          "output_type": "stream",
          "text": [
            "[[1, 2, 3, 4, 1, 5], [1, 6, 7, 8, 9]]\n",
            "[[0. 1. 1. ... 0. 0. 0.]\n",
            " [0. 1. 0. ... 0. 0. 0.]]\n",
            "Found 9 unique tokens.\n"
          ],
          "name": "stdout"
        }
      ]
    },
    {
      "cell_type": "code",
      "metadata": {
        "id": "u9TBudbGWldz",
        "colab_type": "code",
        "outputId": "57a6b007-e9c8-4173-9ced-da94f75c6d6f",
        "colab": {
          "base_uri": "https://localhost:8080/",
          "height": 503
        }
      },
      "source": [
        "#stores the words as vectors of size 1000. If you have close to 1000 words (or more), you'll see many hash collisions, which will decrease the accuracy of this encoding method.\n",
        "\n",
        "dimensionality = 1000\n",
        "max_length = 10\n",
        "results = np.zeros((len(samples), max_length, dimensionality))\n",
        "\n",
        "for i, sample in enumerate(samples):\n",
        "  print (sample)\n",
        "  for j, word in list(enumerate(sample.split()))[:max_length]:\n",
        "  # hashes the word into a random integer index between 0 and 1000\n",
        "    index = abs(hash(word)) % dimensionality\n",
        "    print (word, i, j, index)\n",
        "    results[i, j, index] = 1\n",
        "print (results)"
      ],
      "execution_count": 0,
      "outputs": [
        {
          "output_type": "stream",
          "text": [
            "The cat sat on the mat.\n",
            "The 0 0 589\n",
            "cat 0 1 792\n",
            "sat 0 2 88\n",
            "on 0 3 238\n",
            "the 0 4 476\n",
            "mat. 0 5 620\n",
            "The dog ate my homework.\n",
            "The 1 0 589\n",
            "dog 1 1 780\n",
            "ate 1 2 951\n",
            "my 1 3 983\n",
            "homework. 1 4 681\n",
            "[[[0. 0. 0. ... 0. 0. 0.]\n",
            "  [0. 0. 0. ... 0. 0. 0.]\n",
            "  [0. 0. 0. ... 0. 0. 0.]\n",
            "  ...\n",
            "  [0. 0. 0. ... 0. 0. 0.]\n",
            "  [0. 0. 0. ... 0. 0. 0.]\n",
            "  [0. 0. 0. ... 0. 0. 0.]]\n",
            "\n",
            " [[0. 0. 0. ... 0. 0. 0.]\n",
            "  [0. 0. 0. ... 0. 0. 0.]\n",
            "  [0. 0. 0. ... 0. 0. 0.]\n",
            "  ...\n",
            "  [0. 0. 0. ... 0. 0. 0.]\n",
            "  [0. 0. 0. ... 0. 0. 0.]\n",
            "  [0. 0. 0. ... 0. 0. 0.]]]\n"
          ],
          "name": "stdout"
        }
      ]
    },
    {
      "cell_type": "markdown",
      "metadata": {
        "id": "o03JnyARYblZ",
        "colab_type": "text"
      },
      "source": [
        "**Word Embeddings**"
      ]
    },
    {
      "cell_type": "code",
      "metadata": {
        "id": "47TxO7MFYip_",
        "colab_type": "code",
        "colab": {}
      },
      "source": [
        "import matplotlib.pyplot as plt\n",
        "def plot_model_history(model_history):\n",
        "    fig, axs = plt.subplots(1,2,figsize=(15,5))\n",
        "    # summarize history for accuracy\n",
        "    axs[0].plot(range(1,len(model_history.history['acc'])+1),model_history.history['acc'])\n",
        "    axs[0].plot(range(1,len(model_history.history['val_acc'])+1),model_history.history['val_acc'])\n",
        "    axs[0].set_title('Model Accuracy')\n",
        "    axs[0].set_ylabel('Accuracy')\n",
        "    axs[0].set_xlabel('Epoch')\n",
        "    axs[0].set_xticks(np.arange(1,len(model_history.history['acc'])+1),len(model_history.history['acc'])/10)\n",
        "    axs[0].legend(['train', 'val'], loc='best')\n",
        "    # summarize history for loss\n",
        "    axs[1].plot(range(1,len(model_history.history['loss'])+1),model_history.history['loss'])\n",
        "    axs[1].plot(range(1,len(model_history.history['val_loss'])+1),model_history.history['val_loss'])\n",
        "    axs[1].set_title('Model Loss')\n",
        "    axs[1].set_ylabel('Loss')\n",
        "    axs[1].set_xlabel('Epoch')\n",
        "    axs[1].set_xticks(np.arange(1,len(model_history.history['loss'])+1),len(model_history.history['loss'])/10)\n",
        "    axs[1].legend(['train', 'val'], loc='best')\n",
        "    plt.show()"
      ],
      "execution_count": 0,
      "outputs": []
    },
    {
      "cell_type": "code",
      "metadata": {
        "id": "EoRZYhFcXtfm",
        "colab_type": "code",
        "outputId": "2a634267-d1fc-41b9-8b22-a18a5aafe8de",
        "colab": {
          "base_uri": "https://localhost:8080/",
          "height": 1000
        }
      },
      "source": [
        "from keras.layers import Embedding\n",
        "\n",
        "#the embedding layer take at least two arguments: the number of possible tokens (here, 1000: 1 + max word index) and the dimensionality of the embeddings (here, 64).\n",
        "embedding_layer = Embedding(1000, 64)\n",
        "\n",
        "from keras.datasets import imdb\n",
        "from keras import preprocessing\n",
        "\n",
        "# number of words to consider as features\n",
        "max_features = 10000\n",
        "\n",
        "# cuts off the text after 20 number of words\n",
        "maxlen = 20\n",
        "\n",
        "# loads the data as lists of integer\n",
        "(x_train, y_train), (x_test, y_test) = imdb.load_data(num_words=max_features)\n",
        "print (x_train[0], y_train[0])\n",
        "\n",
        "x_train = preprocessing.sequence.pad_sequences(x_train, maxlen=maxlen)\n",
        "x_test = preprocessing.sequence.pad_sequences(x_test, maxlen=maxlen)\n",
        "print (x_train[0], y_train[0])\n",
        "\n",
        "from keras.models import Sequential\n",
        "from keras.layers import Flatten, Dense\n",
        "\n",
        "model = Sequential()\n",
        "# specifies the max input length to the Embedding layer so you can later flatten the embedded inputs. After the Embedding layer, the activations have shape (samples, maxlen, 8)\n",
        "model.add(Embedding(10000, 8, input_length=maxlen))\n",
        "\n",
        "# flattens the 3D tensor of embeddings into a 2D tensor of shape (Samples, maxlen*8)\n",
        "model.add(Flatten())\n",
        "\n",
        "# adds the classifier on top\n",
        "model.add(Dense(1, activation='sigmoid'))\n",
        "model.compile(optimizer='rmsprop', loss='binary_crossentropy', metrics=['accuracy'])\n",
        "model.summary()\n",
        "\n",
        "model_info = model.fit(x_train, y_train, epochs=10, batch_size=32, validation_split=0.2)\n",
        "plot_model_history (model_info)"
      ],
      "execution_count": 0,
      "outputs": [
        {
          "output_type": "stream",
          "text": [
            "[1, 14, 22, 16, 43, 530, 973, 1622, 1385, 65, 458, 4468, 66, 3941, 4, 173, 36, 256, 5, 25, 100, 43, 838, 112, 50, 670, 2, 9, 35, 480, 284, 5, 150, 4, 172, 112, 167, 2, 336, 385, 39, 4, 172, 4536, 1111, 17, 546, 38, 13, 447, 4, 192, 50, 16, 6, 147, 2025, 19, 14, 22, 4, 1920, 4613, 469, 4, 22, 71, 87, 12, 16, 43, 530, 38, 76, 15, 13, 1247, 4, 22, 17, 515, 17, 12, 16, 626, 18, 2, 5, 62, 386, 12, 8, 316, 8, 106, 5, 4, 2223, 5244, 16, 480, 66, 3785, 33, 4, 130, 12, 16, 38, 619, 5, 25, 124, 51, 36, 135, 48, 25, 1415, 33, 6, 22, 12, 215, 28, 77, 52, 5, 14, 407, 16, 82, 2, 8, 4, 107, 117, 5952, 15, 256, 4, 2, 7, 3766, 5, 723, 36, 71, 43, 530, 476, 26, 400, 317, 46, 7, 4, 2, 1029, 13, 104, 88, 4, 381, 15, 297, 98, 32, 2071, 56, 26, 141, 6, 194, 7486, 18, 4, 226, 22, 21, 134, 476, 26, 480, 5, 144, 30, 5535, 18, 51, 36, 28, 224, 92, 25, 104, 4, 226, 65, 16, 38, 1334, 88, 12, 16, 283, 5, 16, 4472, 113, 103, 32, 15, 16, 5345, 19, 178, 32] 1\n",
            "[  65   16   38 1334   88   12   16  283    5   16 4472  113  103   32\n",
            "   15   16 5345   19  178   32] 1\n",
            "Model: \"sequential_2\"\n",
            "_________________________________________________________________\n",
            "Layer (type)                 Output Shape              Param #   \n",
            "=================================================================\n",
            "embedding_4 (Embedding)      (None, 20, 8)             80000     \n",
            "_________________________________________________________________\n",
            "flatten_2 (Flatten)          (None, 160)               0         \n",
            "_________________________________________________________________\n",
            "dense_2 (Dense)              (None, 1)                 161       \n",
            "=================================================================\n",
            "Total params: 80,161\n",
            "Trainable params: 80,161\n",
            "Non-trainable params: 0\n",
            "_________________________________________________________________\n",
            "Train on 20000 samples, validate on 5000 samples\n",
            "Epoch 1/10\n",
            "20000/20000 [==============================] - 2s 76us/step - loss: 0.6675 - acc: 0.6318 - val_loss: 0.6154 - val_acc: 0.7042\n",
            "Epoch 2/10\n",
            "20000/20000 [==============================] - 1s 67us/step - loss: 0.5392 - acc: 0.7516 - val_loss: 0.5253 - val_acc: 0.7302\n",
            "Epoch 3/10\n",
            "20000/20000 [==============================] - 1s 69us/step - loss: 0.4625 - acc: 0.7883 - val_loss: 0.5005 - val_acc: 0.7436\n",
            "Epoch 4/10\n",
            "20000/20000 [==============================] - 1s 68us/step - loss: 0.4256 - acc: 0.8048 - val_loss: 0.4945 - val_acc: 0.7500\n",
            "Epoch 5/10\n",
            "20000/20000 [==============================] - 1s 67us/step - loss: 0.3998 - acc: 0.8223 - val_loss: 0.4962 - val_acc: 0.7532\n",
            "Epoch 6/10\n",
            "20000/20000 [==============================] - 1s 66us/step - loss: 0.3782 - acc: 0.8323 - val_loss: 0.4967 - val_acc: 0.7520\n",
            "Epoch 7/10\n",
            "20000/20000 [==============================] - 1s 66us/step - loss: 0.3575 - acc: 0.8465 - val_loss: 0.5020 - val_acc: 0.7544\n",
            "Epoch 8/10\n",
            "20000/20000 [==============================] - 1s 65us/step - loss: 0.3382 - acc: 0.8565 - val_loss: 0.5068 - val_acc: 0.7522\n",
            "Epoch 9/10\n",
            "20000/20000 [==============================] - 1s 69us/step - loss: 0.3195 - acc: 0.8672 - val_loss: 0.5129 - val_acc: 0.7538\n",
            "Epoch 10/10\n",
            "20000/20000 [==============================] - 1s 68us/step - loss: 0.3013 - acc: 0.8746 - val_loss: 0.5203 - val_acc: 0.7522\n"
          ],
          "name": "stdout"
        },
        {
          "output_type": "display_data",
          "data": {
            "image/png": "[encoded data removed]",
            "text/plain": [
              "<Figure size 1080x360 with 2 Axes>"
            ]
          },
          "metadata": {
            "tags": []
          }
        }
      ]
    },
    {
      "cell_type": "code",
      "metadata": {
        "id": "cJG9CR4gZcIe",
        "colab_type": "code",
        "outputId": "89844a8c-f934-4e09-a229-70b17253941f",
        "colab": {
          "base_uri": "https://localhost:8080/",
          "height": 52
        }
      },
      "source": [
        "print (x_train[0], y_train)"
      ],
      "execution_count": 0,
      "outputs": [
        {
          "output_type": "stream",
          "text": [
            "[  65   16   38 1334   88   12   16  283    5   16 4472  113  103   32\n",
            "   15   16 5345   19  178   32] [1 0 0 ... 0 1 0]\n"
          ],
          "name": "stdout"
        }
      ]
    },
    {
      "cell_type": "code",
      "metadata": {
        "id": "VrwlwB5VwSmh",
        "colab_type": "code",
        "outputId": "ed85ee48-a3e6-4762-f103-c81f7a4402a4",
        "colab": {
          "base_uri": "https://localhost:8080/",
          "height": 34
        }
      },
      "source": [
        "embedding_layer.weights"
      ],
      "execution_count": 0,
      "outputs": [
        {
          "output_type": "execute_result",
          "data": {
            "text/plain": [
              "[]"
            ]
          },
          "metadata": {
            "tags": []
          },
          "execution_count": 10
        }
      ]
    },
    {
      "cell_type": "code",
      "metadata": {
        "id": "rzgVVvn0xC4_",
        "colab_type": "code",
        "outputId": "e04a360b-ca8d-4395-fcdf-f1fb12f7a081",
        "colab": {
          "base_uri": "https://localhost:8080/",
          "height": 399
        }
      },
      "source": [
        "!wget https://cdn.talentsprint.com/aiml/Experiment_related_data/week1/Saturday_Experiment/MB.txt\n",
        "!wget https://cdn.talentsprint.com/aiml/Experiment_related_data/week1/Saturday_Experiment/stopwords.txt"
      ],
      "execution_count": 0,
      "outputs": [
        {
          "output_type": "stream",
          "text": [
            "--2020-01-29 14:30:27--  https://cdn.talentsprint.com/aiml/Experiment_related_data/week1/Saturday_Experiment/MB.txt\n",
            "Resolving cdn.talentsprint.com (cdn.talentsprint.com)... 172.105.34.236\n",
            "Connecting to cdn.talentsprint.com (cdn.talentsprint.com)|172.105.34.236|:443... connected.\n",
            "HTTP request sent, awaiting response... 200 OK\n",
            "Length: 14571473 (14M) [text/plain]\n",
            "Saving to: ‘MB.txt’\n",
            "\n",
            "MB.txt              100%[===================>]  13.90M  4.89MB/s    in 2.8s    \n",
            "\n",
            "2020-01-29 14:30:31 (4.89 MB/s) - ‘MB.txt’ saved [14571473/14571473]\n",
            "\n",
            "--2020-01-29 14:30:33--  https://cdn.talentsprint.com/aiml/Experiment_related_data/week1/Saturday_Experiment/stopwords.txt\n",
            "Resolving cdn.talentsprint.com (cdn.talentsprint.com)... 172.105.34.236\n",
            "Connecting to cdn.talentsprint.com (cdn.talentsprint.com)|172.105.34.236|:443... connected.\n",
            "HTTP request sent, awaiting response... 200 OK\n",
            "Length: 2456 (2.4K) [text/plain]\n",
            "Saving to: ‘stopwords.txt’\n",
            "\n",
            "stopwords.txt       100%[===================>]   2.40K  --.-KB/s    in 0s      \n",
            "\n",
            "2020-01-29 14:30:34 (576 MB/s) - ‘stopwords.txt’ saved [2456/2456]\n",
            "\n"
          ],
          "name": "stdout"
        }
      ]
    },
    {
      "cell_type": "code",
      "metadata": {
        "id": "STr9JdPJrfoP",
        "colab_type": "code",
        "outputId": "c3b61954-129e-4c26-e335-aa4562de925d",
        "colab": {
          "base_uri": "https://localhost:8080/",
          "height": 34
        }
      },
      "source": [
        "!ls"
      ],
      "execution_count": 0,
      "outputs": [
        {
          "output_type": "stream",
          "text": [
            "MB.txt\tsample_data  stopwords.txt\n"
          ],
          "name": "stdout"
        }
      ]
    },
    {
      "cell_type": "code",
      "metadata": {
        "id": "YP2MhK9nrmW8",
        "colab_type": "code",
        "colab": {}
      },
      "source": [
        "#vector space modeling and topic modeling toolkit\n",
        "import gensim\n",
        "\n",
        "# Operating System\n",
        "import os\n",
        "\n",
        "# Regular Expression\n",
        "import re\n",
        "\n",
        "# nltk packages\n",
        "from nltk.tokenize import sent_tokenize, word_tokenize\n",
        "from nltk.stem.porter import *\n",
        "from nltk.stem.snowball import SnowballStemmer\n",
        "\n",
        "# Basic Packages\n",
        "import pandas as pd\n",
        "import numpy as np\n",
        "from matplotlib import pyplot as plt\n",
        "import warnings\n",
        "warnings.filterwarnings(\"ignore\")\n",
        "\n",
        "# PCA from scikit learn\n",
        "from sklearn.decomposition import PCA"
      ],
      "execution_count": 0,
      "outputs": []
    },
    {
      "cell_type": "code",
      "metadata": {
        "id": "KxFfNAVfrw35",
        "colab_type": "code",
        "outputId": "eb917fb3-9b94-4ae3-fe48-7c410e984079",
        "colab": {
          "base_uri": "https://localhost:8080/",
          "height": 191
        }
      },
      "source": [
        "stemmer = SnowballStemmer(\"english\")\n",
        "!head stopwords.txt"
      ],
      "execution_count": 0,
      "outputs": [
        {
          "output_type": "stream",
          "text": [
            " \n",
            "a\n",
            "about\n",
            "above\n",
            "across\n",
            "after\n",
            "again\n",
            "against\n",
            "all\n",
            "almost\n"
          ],
          "name": "stdout"
        }
      ]
    },
    {
      "cell_type": "code",
      "metadata": {
        "id": "AqISZWQMrxR_",
        "colab_type": "code",
        "colab": {}
      },
      "source": [
        "stopWords = pd.read_csv('stopwords.txt').values\n",
        "\n",
        "class MySentences(object):\n",
        "    def __init__(self, fnamelist):\n",
        "        self.fnamelist = fnamelist\n",
        "        # Creating a set of vocabulary\n",
        "        self.vocabulary = set([])\n",
        "\n",
        "    def __iter__(self):\n",
        "        for fname in self.fnamelist:\n",
        "            for line in open(fname, encoding='latin1'):\n",
        "                words = re.findall(r'(\\b[A-Za-z][a-z]{2,15}\\b)', line)\n",
        "                # Stemming a word.\n",
        "                words = [ stemmer.stem(word.lower()) for word in words if not word.lower() in stopWords]\n",
        "                for word in words:\n",
        "                    self.vocabulary.add(word)\n",
        "                yield words"
      ],
      "execution_count": 0,
      "outputs": []
    },
    {
      "cell_type": "code",
      "metadata": {
        "id": "iSd3eV9nrzZq",
        "colab_type": "code",
        "outputId": "906b513f-dfb6-4129-a6d2-e9375d00ebd3",
        "colab": {
          "base_uri": "https://localhost:8080/",
          "height": 34
        }
      },
      "source": [
        "import time\n",
        "t = time.time ()\n",
        "sentences = MySentences(['MB.txt'])\n",
        "model = gensim.models.Word2Vec(sentences, min_count=100)\n",
        "print (\"time taken : \", time.time() - t)"
      ],
      "execution_count": 0,
      "outputs": [
        {
          "output_type": "stream",
          "text": [
            "time taken :  304.75190591812134\n"
          ],
          "name": "stdout"
        }
      ]
    },
    {
      "cell_type": "code",
      "metadata": {
        "id": "adnkCCrasMFK",
        "colab_type": "code",
        "outputId": "9b1c4de8-53b3-46f3-9f57-a8f0ff30ce9f",
        "colab": {
          "base_uri": "https://localhost:8080/",
          "height": 260
        }
      },
      "source": [
        "characters = ['dussasana','sakuni','duryodhana','bhishma', 'krishna','madri','pandu', 'kunti', 'karna', 'bhima', 'arjuna', 'nakula', 'sahadeva', 'draupadi']\n",
        "for character in characters:\n",
        "    near = model.most_similar(character)[:5]\n",
        "    nearNames = [x[0] for x in near]\n",
        "    print(character, ':'.join(nearNames), sep=\"\\t\")"
      ],
      "execution_count": 0,
      "outputs": [
        {
          "output_type": "stream",
          "text": [
            "dussasana\tsakuni:duhsasana:vikarna:chitrasena:valhika\n",
            "sakuni\tdussasana:duhsasana:vikarna:suvala:valhika\n",
            "duryodhana\tdussasana:suyodhana:sakuni:jayadratha:dhritarashtra\n",
            "bhishma\tsalya:sanjaya:vaisampayana:savyasachin:kripa\n",
            "krishna\tkesava:vasudeva:govinda:madhava:dhananjaya\n",
            "madri\tsomadatta:prishata:subhadra:suvala:valiant\n",
            "pandu\tpritha:kunti:radha:suta:subhadra\n",
            "kunti\tpritha:radha:pandu:suta:santanu\n",
            "karna\tyuyudhana:duhsasana:abhimanyu:bhagadatta:vikarna\n",
            "bhima\tbhimasena:vrikodara:abhimanyu:satyaki:lakshmana\n",
            "arjuna\tpartha:dhananjaya:vibhatsu:kama:vrikodara\n",
            "nakula\tsahadeva:vikarna:duhsasana:aswatthaman:chitrasena\n",
            "sahadeva\tnakula:vikarna:dhrishtadyumna:duhsasana:satyaki\n",
            "draupadi\tdrupada:sakuni:dussasana:uncl:madri\n"
          ],
          "name": "stdout"
        }
      ]
    },
    {
      "cell_type": "code",
      "metadata": {
        "id": "1PXGLmIcr2Ot",
        "colab_type": "code",
        "outputId": "fefce6b7-9c32-4caf-8838-fb170a36c9fa",
        "colab": {
          "base_uri": "https://localhost:8080/",
          "height": 372
        }
      },
      "source": [
        "characters = ['govinda','kesava','dussasana','sakuni','duryodhana','bhishma', 'krishna','madri','pandu', 'kunti', 'karna', 'bhima', 'arjuna', 'nakula', 'sahadeva', 'draupadi']\n",
        "words_list = np.array([])\n",
        "vector_list = np.array([])\n",
        "for i in model.wv.vocab:\n",
        "    try :\n",
        "        words_list = np.append(words_list, i)\n",
        "        vector_list = np.append(vector_list, model[i])\n",
        "    except :\n",
        "        pass\n",
        "vector_list = vector_list.reshape(len(model.wv.vocab), -1)\n",
        "\n",
        "pca = PCA(n_components=2)\n",
        "pca.fit(vector_list)\n",
        "compressed_list =pca.transform(vector_list)\n",
        "\n",
        "locs = [np.where(words_list == x)[0][0] for x in characters]\n",
        "print(locs)\n",
        "print(pca.transform([model[characters[0]]])[0])\n",
        "print(words_list[locs[0]])\n",
        "\n",
        "%matplotlib inline\n",
        "fig = plt.figure(figsize=(5,5))\n",
        "ax = fig.add_subplot(111)\n",
        "for character, pos in zip(characters, locs):\n",
        "    m = model[character]\n",
        "    value = pca.transform([m])[0]\n",
        "    ax.plot(value[0], value[1], \"r*\")\n",
        "    #ax.scatter(value[0], value[1], value[2])\n",
        "    #ax.annotate(words_list[pos], xy=value, xytext=value)\n",
        "    ax.text(value[0], value[1], '%s' % (words_list[pos]), zorder=1, color='k')\n",
        "plt.show()\n",
        "fig.savefig('word2vec.png')"
      ],
      "execution_count": 0,
      "outputs": [
        {
          "output_type": "stream",
          "text": [
            "[1464, 1441, 1627, 1626, 1522, 19, 1245, 1500, 1232, 245, 1659, 1572, 1381, 1646, 1531, 1603]\n",
            "[-0.40153238 -0.97524308]\n",
            "govinda\n"
          ],
          "name": "stdout"
        },
        {
          "output_type": "display_data",
          "data": {
            "image/png": "[encoded data removed]",
            "text/plain": [
              "<Figure size 360x360 with 1 Axes>"
            ]
          },
          "metadata": {
            "tags": []
          }
        }
      ]
    },
    {
      "cell_type": "code",
      "metadata": {
        "id": "8xq5AqVjsXAt",
        "colab_type": "code",
        "outputId": "eace8c8d-b726-47cb-d235-04e4be77aa2d",
        "colab": {
          "base_uri": "https://localhost:8080/",
          "height": 132
        }
      },
      "source": [
        "https://projector.tensorflow.org/\n",
        "https://dbstaging.tools.streamoid.com/experiments/fashion100/"
      ],
      "execution_count": 0,
      "outputs": [
        {
          "output_type": "error",
          "ename": "SyntaxError",
          "evalue": "ignored",
          "traceback": [
            "\u001b[0;36m  File \u001b[0;32m\"<ipython-input-19-3a11e40b9a17>\"\u001b[0;36m, line \u001b[0;32m1\u001b[0m\n\u001b[0;31m    https://projector.tensorflow.org/\u001b[0m\n\u001b[0m           ^\u001b[0m\n\u001b[0;31mSyntaxError\u001b[0m\u001b[0;31m:\u001b[0m invalid syntax\n"
          ]
        }
      ]
    }
  ]
}